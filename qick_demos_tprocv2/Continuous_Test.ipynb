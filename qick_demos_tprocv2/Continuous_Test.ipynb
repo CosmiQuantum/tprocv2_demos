{
 "cells": [
  {
   "cell_type": "markdown",
   "id": "249a2084",
   "metadata": {},
   "source": [
    "Use to output a continuous pulse - useful to see on spectrum analyzer"
   ]
  },
  {
   "cell_type": "code",
   "execution_count": 1,
   "id": "6ed04db2",
   "metadata": {},
   "outputs": [
    {
     "name": "stdout",
     "output_type": "stream",
     "text": [
      "%pylab is deprecated, use %matplotlib inline and import the required libraries.\n",
      "Populating the interactive namespace from numpy and matplotlib\n"
     ]
    }
   ],
   "source": [
    "# Import the QICK drivers and auxiliary libraries\n",
    "from qick import *\n",
    "# from qick_lib.qick import *\n",
    "%pylab inline\n",
    "\n",
    "# for now, all the tProc v2 classes need to be individually imported (can't use qick.*)\n",
    "\n",
    "# the main program class\n",
    "from qick.asm_v2 import AveragerProgramV2\n",
    "# for defining sweeps\n",
    "from qick.asm_v2 import QickSweep1D"
   ]
  },
  {
   "cell_type": "code",
   "execution_count": 2,
   "id": "e7a2538e",
   "metadata": {},
   "outputs": [
    {
     "name": "stdout",
     "output_type": "stream",
     "text": [
      "QICK running on ZCU216, software version 0.2.280\n",
      "\n",
      "Firmware configuration (built Thu May 30 14:53:02 2024):\n",
      "\n",
      "\tGlobal clocks (MHz): tProcessor 430.080, RF reference 245.760\n",
      "\n",
      "\t12 signal generator channels:\n",
      "\t0:\taxis_signal_gen_v6 - envelope memory 32768 samples (4.762 us)\n",
      "\t\tfs=6881.280 MHz, fabric=430.080 MHz, 32-bit DDS, range=6881.280 MHz\n",
      "\t\tDAC tile 2, blk 0 is 0_230, on JHC3\n",
      "\t1:\taxis_signal_gen_v6 - envelope memory 32768 samples (4.762 us)\n",
      "\t\tfs=6881.280 MHz, fabric=430.080 MHz, 32-bit DDS, range=6881.280 MHz\n",
      "\t\tDAC tile 2, blk 1 is 1_230, on JHC4\n",
      "\t2:\taxis_signal_gen_v6 - envelope memory 32768 samples (4.762 us)\n",
      "\t\tfs=6881.280 MHz, fabric=430.080 MHz, 32-bit DDS, range=6881.280 MHz\n",
      "\t\tDAC tile 2, blk 2 is 2_230, on JHC3\n",
      "\t3:\taxis_signal_gen_v6 - envelope memory 32768 samples (4.762 us)\n",
      "\t\tfs=6881.280 MHz, fabric=430.080 MHz, 32-bit DDS, range=6881.280 MHz\n",
      "\t\tDAC tile 2, blk 3 is 3_230, on JHC4\n",
      "\t4:\taxis_signal_gen_v6 - envelope memory 32768 samples (13.333 us)\n",
      "\t\tfs=2457.600 MHz, fabric=153.600 MHz, 32-bit DDS, range=2457.600 MHz\n",
      "\t\tDAC tile 1, blk 0 is 0_229, on JHC1\n",
      "\t5:\taxis_signal_gen_v6 - envelope memory 32768 samples (13.333 us)\n",
      "\t\tfs=2457.600 MHz, fabric=153.600 MHz, 32-bit DDS, range=2457.600 MHz\n",
      "\t\tDAC tile 1, blk 1 is 1_229, on JHC2\n",
      "\t6:\taxis_signal_gen_v6 - envelope memory 32768 samples (13.333 us)\n",
      "\t\tfs=2457.600 MHz, fabric=153.600 MHz, 32-bit DDS, range=2457.600 MHz\n",
      "\t\tDAC tile 1, blk 2 is 2_229, on JHC1\n",
      "\t7:\taxis_signal_gen_v6 - envelope memory 32768 samples (13.333 us)\n",
      "\t\tfs=2457.600 MHz, fabric=153.600 MHz, 32-bit DDS, range=2457.600 MHz\n",
      "\t\tDAC tile 1, blk 3 is 3_229, on JHC2\n",
      "\t8:\taxis_sg_int4_v1 - envelope memory 4096 samples (9.524 us)\n",
      "\t\tfs=6881.280 MHz, fabric=430.080 MHz, 16-bit DDS, range=1720.320 MHz\n",
      "\t\tDAC tile 3, blk 0 is 0_231, on JHC3\n",
      "\t9:\taxis_sg_int4_v1 - envelope memory 4096 samples (9.524 us)\n",
      "\t\tfs=6881.280 MHz, fabric=430.080 MHz, 16-bit DDS, range=1720.320 MHz\n",
      "\t\tDAC tile 3, blk 1 is 1_231, on JHC4\n",
      "\t10:\taxis_sg_mux4_v2 - envelope memory 0 samples (0.000 us)\n",
      "\t\tfs=6881.280 MHz, fabric=430.080 MHz, 32-bit DDS, range=1720.320 MHz\n",
      "\t\tDAC tile 3, blk 2 is 2_231, on JHC3\n",
      "\t11:\taxis_signal_gen_v6 - envelope memory 32768 samples (3.333 us)\n",
      "\t\tfs=9830.400 MHz, fabric=614.400 MHz, 32-bit DDS, range=9830.400 MHz\n",
      "\t\tDAC tile 0, blk 0 is 0_228, on JHC1\n",
      "\n",
      "\t6 readout channels:\n",
      "\t0:\taxis_readout_v2 - configured by PYNQ\n",
      "\t\tfs=2457.600 MHz, decimated=307.200 MHz, 32-bit DDS, range=2457.600 MHz\n",
      "\t\tmaxlen 16384 accumulated, 1024 decimated (3.333 us)\n",
      "\t\ttriggered by dport 1, pin 0, feedback to tProc input 0\n",
      "\t\tADC tile 2, blk 0 is 0_226, on JHC7\n",
      "\t1:\taxis_readout_v3 - configured by tProc output 12\n",
      "\t\tfs=2457.600 MHz, decimated=614.400 MHz, 32-bit DDS, range=2457.600 MHz\n",
      "\t\tmaxlen 16384 accumulated, 1024 decimated (1.667 us)\n",
      "\t\ttriggered by dport 1, pin 1, feedback to tProc input 1\n",
      "\t\tADC tile 2, blk 1 is 1_226, on JHC8\n",
      "\t2:\taxis_pfb_readout_v3 - configured by PYNQ\n",
      "\t\tfs=2457.600 MHz, decimated=38.400 MHz, 32-bit DDS, range=38.400 MHz\n",
      "\t\tmaxlen 16384 accumulated, 1024 decimated (26.667 us)\n",
      "\t\ttriggered by dport 1, pin 2, feedback to tProc input 2\n",
      "\t\tADC tile 2, blk 2 is 2_226, on JHC7\n",
      "\t3:\taxis_pfb_readout_v3 - configured by PYNQ\n",
      "\t\tfs=2457.600 MHz, decimated=38.400 MHz, 32-bit DDS, range=38.400 MHz\n",
      "\t\tmaxlen 16384 accumulated, 1024 decimated (26.667 us)\n",
      "\t\ttriggered by dport 1, pin 3, feedback to tProc input 3\n",
      "\t\tADC tile 2, blk 2 is 2_226, on JHC7\n",
      "\t4:\taxis_pfb_readout_v3 - configured by PYNQ\n",
      "\t\tfs=2457.600 MHz, decimated=38.400 MHz, 32-bit DDS, range=38.400 MHz\n",
      "\t\tmaxlen 16384 accumulated, 1024 decimated (26.667 us)\n",
      "\t\ttriggered by dport 1, pin 4, feedback to tProc input 4\n",
      "\t\tADC tile 2, blk 2 is 2_226, on JHC7\n",
      "\t5:\taxis_pfb_readout_v3 - configured by PYNQ\n",
      "\t\tfs=2457.600 MHz, decimated=38.400 MHz, 32-bit DDS, range=38.400 MHz\n",
      "\t\tmaxlen 16384 accumulated, 1024 decimated (26.667 us)\n",
      "\t\ttriggered by dport 1, pin 5, feedback to tProc input 5\n",
      "\t\tADC tile 2, blk 2 is 2_226, on JHC7\n",
      "\n",
      "\t8 digital output pins:\n",
      "\t0:\tPMOD0_0_LS\n",
      "\t1:\tPMOD0_1_LS\n",
      "\t2:\tPMOD0_2_LS\n",
      "\t3:\tPMOD0_3_LS\n",
      "\t4:\tPMOD0_4_LS\n",
      "\t5:\tPMOD0_5_LS\n",
      "\t6:\tPMOD0_6_LS\n",
      "\t7:\tPMOD0_7_LS\n",
      "\n",
      "\ttProc qick_processor (\"v2\") rev 20: program memory 1024 words, data memory 1024 words\n",
      "\t\texternal start pin: None\n",
      "\n",
      "\tDDR4 memory buffer: 1073741824 samples (3.495 sec), 128 samples/transfer\n",
      "\t\twired to readouts [0, 2, 3, 4, 5]\n",
      "\n",
      "\tMR buffer: 8192 samples (3.333 us), wired to readouts [0]\n"
     ]
    }
   ],
   "source": [
    "import Pyro4\n",
    "from qick import QickConfig\n",
    "Pyro4.config.SERIALIZER = \"pickle\"\n",
    "Pyro4.config.PICKLE_PROTOCOL_VERSION=4\n",
    "\n",
    "ns_host = \"192.168.1.144\"\n",
    "ns_port = 8000\n",
    "proxy_name = \"rfsoc\"\n",
    "\n",
    "ns = Pyro4.locateNS(host=ns_host, port=ns_port)\n",
    "soc = Pyro4.Proxy(ns.lookup(proxy_name))\n",
    "soccfg = QickConfig(soc.get_cfg())\n",
    "print(soccfg)"
   ]
  },
  {
   "cell_type": "code",
   "execution_count": 6,
   "id": "b58999c0",
   "metadata": {},
   "outputs": [],
   "source": [
    "# DAC Signal Generating Channels\n",
    "GEN_CH0 = 0\n",
    "GEN_CH1 = 1\n",
    "GEN_CH2 = 2\n",
    "GEN_CH3 = 3\n",
    "GEN_CH4 = 4\n",
    "GEN_CH5 = 5\n",
    "GEN_CH6 = 6\n",
    "GEN_CH7 = 7\n",
    "GEN_CH8 = 8\n",
    "GEN_CH9 = 9\n",
    "GEN_CH10 = 10\n",
    "GEN_CH11 = 11\n",
    "\n",
    "# ADC Readout Channels\n",
    "RO_CH0 = 0\n",
    "RO_CH1 = 1\n",
    "RO_CH2 = 2\n",
    "RO_CH3 = 3\n",
    "RO_CH4 = 4\n",
    "RO_CH5 = 5\n",
    "\n",
    "# Time and Frequency\n",
    "TRIG_TIME = 0.40 # [us]\n",
    "FREQ = 2963.586 # 7149.7348  #3200 # [MHz] # "
   ]
  },
  {
   "cell_type": "markdown",
   "id": "e1c9f20a",
   "metadata": {},
   "source": [
    "Single pulse for reseting channel"
   ]
  },
  {
   "cell_type": "code",
   "execution_count": 36,
   "id": "7c8c7b05",
   "metadata": {},
   "outputs": [
    {
     "data": {
      "application/vnd.jupyter.widget-view+json": {
       "model_id": "db1d3ea3767147b1b28836bdfca378ae",
       "version_major": 2,
       "version_minor": 0
      },
      "text/plain": [
       "  0%|          | 0/1 [00:00<?, ?it/s]"
      ]
     },
     "metadata": {},
     "output_type": "display_data"
    }
   ],
   "source": [
    "###########\n",
    "# Program\n",
    "###########\n",
    "\n",
    "class ContinuousPulse(AveragerProgramV2):\n",
    "    def _initialize(self, cfg):\n",
    "        ro_ch = cfg['ro_ch']\n",
    "        gen_ch = cfg['gen_ch']\n",
    "        \n",
    "        self.declare_gen(ch=gen_ch, nqz=2)\n",
    "        self.declare_readout(ch=ro_ch, length=cfg['ro_len'], freq=cfg['freq'], gen_ch=gen_ch)\n",
    "\n",
    "        ramp_len = 0.2\n",
    "        self.add_gauss(ch=gen_ch, name=\"ramp\", sigma=ramp_len/10, length=ramp_len, even_length=True)\n",
    "        \n",
    "        self.add_pulse(ch=gen_ch, name=\"myconst\", ro_ch=ro_ch, \n",
    "                       style=\"const\", \n",
    "                       length=1.0, \n",
    "                       freq=cfg['freq'], \n",
    "                       phase=0,\n",
    "                       gain=cfg['gain'],\n",
    "                      )\n",
    "    \n",
    "    def _body(self, cfg):\n",
    "        self.trigger(ros=[cfg['ro_ch']], pins=[0], t=cfg['trig_time'], ddr4=True)\n",
    "        self.pulse(ch=cfg['gen_ch'], name=\"myconst\", t=0)\n",
    "        \n",
    "exp_config = {\n",
    "    'gen_ch': GEN_CH4,\n",
    "    'ro_ch': RO_CH0,\n",
    "    'freq': FREQ,\n",
    "    'trig_time': TRIG_TIME,\n",
    "    'ro_len': 1.9,\n",
    "    'gain': 0.3,\n",
    "     }\n",
    "\n",
    "###################\n",
    "# Run the Program\n",
    "###################\n",
    "\n",
    "prog =ContinuousPulse(soccfg, reps=1, final_delay=0.5, cfg=exp_config)\n",
    "iq_list = prog.acquire_decimated(soc, soft_avgs=1)"
   ]
  },
  {
   "cell_type": "markdown",
   "id": "1c0e4660",
   "metadata": {},
   "source": [
    "Continuous Pulse sequence working with the V2 version."
   ]
  },
  {
   "cell_type": "code",
   "execution_count": 35,
   "id": "49b373de",
   "metadata": {},
   "outputs": [
    {
     "data": {
      "application/vnd.jupyter.widget-view+json": {
       "model_id": "5ebd76df39a94acf8ff0529dd92f5a74",
       "version_major": 2,
       "version_minor": 0
      },
      "text/plain": [
       "  0%|          | 0/1 [00:00<?, ?it/s]"
      ]
     },
     "metadata": {},
     "output_type": "display_data"
    }
   ],
   "source": [
    "###########\n",
    "# Program\n",
    "###########\n",
    "\n",
    "class ContinuousPulse(AveragerProgramV2):\n",
    "    def _initialize(self, cfg):\n",
    "        ro_ch = cfg['ro_ch']\n",
    "        gen_ch = cfg['gen_ch']\n",
    "        \n",
    "        self.declare_gen(ch=gen_ch, nqz=1)\n",
    "        self.declare_readout(ch=ro_ch, length=cfg['ro_len'], freq=cfg['freq'], gen_ch=gen_ch)\n",
    "\n",
    "        ramp_len = 0.2\n",
    "        self.add_gauss(ch=gen_ch, name=\"ramp\", sigma=ramp_len/10, length=ramp_len, even_length=True)\n",
    "        \n",
    "        mode = [\"oneshot\", \"periodic\"][cfg[\"out_en\"]]\n",
    "\n",
    "        self.add_pulse(ch=gen_ch, name=\"myconst\", ro_ch=ro_ch, \n",
    "                       style=\"const\", \n",
    "                       length=1.0, \n",
    "                       freq=cfg['freq'], \n",
    "                       phase=0,\n",
    "                       gain=cfg['gain'],\n",
    "                       mode=mode, stdysel=\"last\"\n",
    "                      )\n",
    "    \n",
    "    def _body(self, cfg):\n",
    "        self.trigger(ros=[cfg['ro_ch']], pins=[0], t=cfg['trig_time'], ddr4=True)\n",
    "        self.pulse(ch=cfg['gen_ch'], name=\"myconst\", t=0)\n",
    "        \n",
    "exp_config = {\n",
    "    'gen_ch': GEN_CH4,\n",
    "    'ro_ch': RO_CH0,\n",
    "    'freq': FREQ,\n",
    "    'trig_time': TRIG_TIME,\n",
    "    'ro_len': 1.9,\n",
    "    'gain': 0.5, # 0.7\n",
    "     }\n",
    "\n",
    "###################\n",
    "# Run the Program\n",
    "###################\n",
    "\n",
    "# prog =ContinuousPulse(soccfg, reps=1, final_delay=0.5, cfg=exp_config)\n",
    "# iq_list = prog.acquire_decimated(soc, soft_avgs=1000)\n",
    "\n",
    "def manualTune(out_en=1, **kwargs):\n",
    "    exp_config.update(kwargs)\n",
    "    config = {**exp_config, \"out_en\": out_en}\n",
    "    prog =ContinuousPulse(soccfg, reps=1, final_delay=0.5, cfg=config)\n",
    "    # iq_list = prog.acquire_decimated(soc, load_pulses=True, progress=True, debug=False)\n",
    "    iq_list = prog.acquire_decimated(soc, soft_avgs=1)\n",
    "    if config[\"out_en\"] == 0:\n",
    "        print(dict(config), sort_dicts=False)\n",
    "\n",
    "\n",
    "if __name__ == \"__main__\":\n",
    "    manualTune(out_en=1, skewPhase=90, IQScale=1)"
   ]
  },
  {
   "cell_type": "code",
   "execution_count": 55,
   "id": "71698527",
   "metadata": {},
   "outputs": [
    {
     "data": {
      "application/vnd.jupyter.widget-view+json": {
       "model_id": "bbe32f65f4854638b6276bd44375ebe2",
       "version_major": 2,
       "version_minor": 0
      },
      "text/plain": [
       "  0%|          | 0/10 [00:00<?, ?it/s]"
      ]
     },
     "metadata": {},
     "output_type": "display_data"
    },
    {
     "data": {
      "image/png": "[encoded data removed]",
      "text/plain": [
       "<Figure size 432x288 with 1 Axes>"
      ]
     },
     "metadata": {
      "needs_background": "light"
     },
     "output_type": "display_data"
    }
   ],
   "source": [
    "iq_list = prog.acquire_decimated(soc, soft_avgs=10)\n",
    "t = prog.get_time_axis(ro_index=0)\n",
    "\n",
    "plt.plot(t, iq_list[0][:,0], label=\"I value\")\n",
    "plt.plot(t, iq_list[0][:,1], label=\"Q value\")\n",
    "plt.plot(t, np.abs(iq_list[0].dot([1,1j])), label=\"magnitude\")\n",
    "plt.legend()\n",
    "plt.ylabel(\"a.u.\")\n",
    "plt.xlabel(\"us\");"
   ]
  },
  {
   "cell_type": "code",
   "execution_count": null,
   "id": "94d9d5d8",
   "metadata": {},
   "outputs": [],
   "source": []
  }
 ],
 "metadata": {
  "kernelspec": {
   "display_name": "Python 3 (ipykernel)",
   "language": "python",
   "name": "python3"
  },
  "language_info": {
   "codemirror_mode": {
    "name": "ipython",
    "version": 3
   },
   "file_extension": ".py",
   "mimetype": "text/x-python",
   "name": "python",
   "nbconvert_exporter": "python",
   "pygments_lexer": "ipython3",
   "version": "3.11.4"
  },
  "toc": {
   "base_numbering": 1,
   "nav_menu": {},
   "number_sections": true,
   "sideBar": true,
   "skip_h1_title": false,
   "title_cell": "Table of Contents",
   "title_sidebar": "Contents",
   "toc_cell": false,
   "toc_position": {
    "height": "calc(100% - 180px)",
    "left": "10px",
    "top": "150px",
    "width": "237.797px"
   },
   "toc_section_display": true,
   "toc_window_display": false
  }
 },
 "nbformat": 4,
 "nbformat_minor": 5
}
